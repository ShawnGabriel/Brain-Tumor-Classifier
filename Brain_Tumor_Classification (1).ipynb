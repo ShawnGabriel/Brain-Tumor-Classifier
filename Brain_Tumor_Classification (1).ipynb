{
  "nbformat": 4,
  "nbformat_minor": 0,
  "metadata": {
    "colab": {
      "provenance": [],
      "machine_shape": "hm",
      "gpuType": "V28"
    },
    "kernelspec": {
      "name": "python3",
      "display_name": "Python 3"
    },
    "language_info": {
      "name": "python"
    },
    "accelerator": "TPU"
  },
  "cells": [
    {
      "cell_type": "markdown",
      "source": [
        "## Imports"
      ],
      "metadata": {
        "id": "brbFff-5k2Ud"
      }
    },
    {
      "cell_type": "code",
      "execution_count": null,
      "metadata": {
        "id": "d8v0RIbXgLjp"
      },
      "outputs": [],
      "source": [
        "import pandas as pd\n",
        "import numpy as np\n",
        "import matplotlib.pyplot as plt\n",
        "import seaborn as sns\n",
        "import os, shutil\n",
        "import cv2\n",
        "import matplotlib.image as mpimg\n",
        "%matplotlib inline\n",
        "plt.style.use('ggplot')\n",
        "\n",
        "import tensorflow as tf\n",
        "from tensorflow.keras.preprocessing.image import ImageDataGenerator\n",
        "from tensorflow.keras.models import Model\n",
        "from tensorflow.keras.layers import Flatten, Dense, Dropout\n",
        "from tensorflow.keras.applications.vgg19 import VGG19\n",
        "from tensorflow.keras.optimizers import SGD, Adam\n",
        "from tensorflow.keras.callbacks import EarlyStopping, ModelCheckpoint, ReduceLROnPlateau"
      ]
    },
    {
      "cell_type": "code",
      "source": [
        "folder = '/content/drive/MyDrive/CSV files/brain_tumor/brain_tumor_dataset/yes/'\n",
        "count = 1\n",
        "\n",
        "for filename in os.listdir(folder):\n",
        "  source = folder + filename\n",
        "  destination = folder + \"Y_\" + str(count) + '.jpg'\n",
        "  os.rename(source, destination)\n",
        "  count += 1\n",
        "print(\"All files are renamed in the yes dir.\")"
      ],
      "metadata": {
        "colab": {
          "base_uri": "https://localhost:8080/"
        },
        "id": "fYRTFZdwgrKR",
        "outputId": "917302df-8313-4e0b-a3f6-28b4205a3848"
      },
      "execution_count": null,
      "outputs": [
        {
          "output_type": "stream",
          "name": "stdout",
          "text": [
            "All files are renamed in the yes dir.\n"
          ]
        }
      ]
    },
    {
      "cell_type": "code",
      "source": [
        "folder = '/content/drive/MyDrive/CSV files/brain_tumor/brain_tumor_dataset/no/'\n",
        "count = 1\n",
        "\n",
        "for filename in os.listdir(folder):\n",
        "  source = folder + filename\n",
        "  destination = folder + \"N_\" + str(count) + '.jpg'\n",
        "  os.rename(source, destination)\n",
        "  count += 1\n",
        "print(\"All files are renamed in the no dir.\")"
      ],
      "metadata": {
        "colab": {
          "base_uri": "https://localhost:8080/"
        },
        "id": "X17Eqjrzh5oA",
        "outputId": "11a304d8-98c0-4e58-9f4d-429937ac053d"
      },
      "execution_count": null,
      "outputs": [
        {
          "output_type": "stream",
          "name": "stdout",
          "text": [
            "All files are renamed in the no dir.\n"
          ]
        }
      ]
    },
    {
      "cell_type": "markdown",
      "source": [
        "## Exploratory Data Analysis"
      ],
      "metadata": {
        "id": "fNpJ3Ptvk9-c"
      }
    },
    {
      "cell_type": "code",
      "source": [
        "list_yes = os.listdir(\"/content/drive/MyDrive/CSV files/brain_tumor/brain_tumor_dataset/yes/\")\n",
        "num_yes_files = len(list_yes)\n",
        "print(f\"Number of yes images: {num_yes_files}\")\n",
        "\n",
        "list_no = os.listdir(\"/content/drive/MyDrive/CSV files/brain_tumor/brain_tumor_dataset/no/\")\n",
        "num_no_files = len(list_no)\n",
        "print(f\"Number of no images: {num_no_files}\")"
      ],
      "metadata": {
        "colab": {
          "base_uri": "https://localhost:8080/"
        },
        "id": "MxwXWy7CkkAI",
        "outputId": "9ac20516-64de-411a-c047-fdc331fc00af"
      },
      "execution_count": null,
      "outputs": [
        {
          "output_type": "stream",
          "name": "stdout",
          "text": [
            "Number of yes images: 155\n",
            "Number of no images: 98\n"
          ]
        }
      ]
    },
    {
      "cell_type": "markdown",
      "source": [
        "### Bar Plot"
      ],
      "metadata": {
        "id": "U2dljCJ_nUDj"
      }
    },
    {
      "cell_type": "code",
      "source": [
        "data = {'tumorous': num_yes_files, 'non-tumorous': num_no_files}\n",
        "\n",
        "type_x = data.keys()\n",
        "values = data.values()\n",
        "fig = plt.figure(figsize = (5,7))\n",
        "plt.bar(type_x, values, color=\"blue\")\n",
        "plt.xlabel(\"Data\")\n",
        "plt.ylabel(\"Number of Brain MRI Scan Images\")\n",
        "plt.title(\"Count of Brain Tumor Images\")\n",
        "plt.show()"
      ],
      "metadata": {
        "colab": {
          "base_uri": "https://localhost:8080/",
          "height": 646
        },
        "id": "oLsRCS7AltUe",
        "outputId": "5b3f1c13-a6de-43b1-c00e-be97e982ab19"
      },
      "execution_count": null,
      "outputs": [
        {
          "output_type": "display_data",
          "data": {
            "text/plain": [
              "<Figure size 500x700 with 1 Axes>"
            ],
            "image/png": "[encoded data removed]"
          },
          "metadata": {}
        }
      ]
    },
    {
      "cell_type": "markdown",
      "source": [
        "### Data Augmentation\n",
        "Due to lack of images, data augmentation is performed."
      ],
      "metadata": {
        "id": "2kklWgDEnWzm"
      }
    },
    {
      "cell_type": "code",
      "source": [
        "def timing(sec_elapsed):\n",
        "  h = int(sec_elapsed / (60*60))\n",
        "  m = int(sec_elapsed % (60*60) / 60)\n",
        "  s = sec_elapsed % 60\n",
        "\n",
        "  return f\"{h}:{m}:{s}\""
      ],
      "metadata": {
        "id": "RiJzZ2TorN01"
      },
      "execution_count": null,
      "outputs": []
    },
    {
      "cell_type": "code",
      "source": [
        "def augmented_data(file_dir, n_generated_samples, save_to_dir):\n",
        "    data_gen = ImageDataGenerator(rotation_range=10,\n",
        "                       width_shift_range=0.1,\n",
        "                       height_shift_range=0.1,\n",
        "                       shear_range=0.1,\n",
        "                       brightness_range=(0.3, 0.1),\n",
        "                       horizontal_flip=True,\n",
        "                       vertical_flip=True,\n",
        "                       fill_mode='nearest')\n",
        "    for filename in os.listdir(file_dir):\n",
        "        image = cv2.imread(file_dir + '/' + filename)\n",
        "        image = image.reshape((1,) + image.shape)\n",
        "        save_prefix = 'aug_' + filename[:-4]\n",
        "        i = 0\n",
        "        for batch in data_gen.flow(x = image, batch_size =1, save_to_dir = save_to_dir, save_prefix = save_prefix, save_format = \"jpg\"):\n",
        "          i+=1\n",
        "          if i>n_generated_samples:\n",
        "            break"
      ],
      "metadata": {
        "id": "QzWpQZaKmetn"
      },
      "execution_count": null,
      "outputs": []
    },
    {
      "cell_type": "code",
      "source": [
        "import time\n",
        "start_time = time.time()\n",
        "\n",
        "yes_path = \"/content/drive/MyDrive/CSV files/brain_tumor/brain_tumor_dataset/yes\"\n",
        "no_path = \"/content/drive/MyDrive/CSV files/brain_tumor/brain_tumor_dataset/no\"\n",
        "\n",
        "augmented_data_path = \"/content/drive/MyDrive/CSV files/brain_tumor/augmented_data/\"\n",
        "\n",
        "augmented_data(file_dir = yes_path, n_generated_samples=6, save_to_dir=augmented_data_path + 'yes')\n",
        "augmented_data(file_dir = no_path, n_generated_samples=9, save_to_dir=augmented_data_path + 'no')\n",
        "\n",
        "end_time = time.time()\n",
        "execution_time = end_time - start_time\n",
        "print(f\"Elapsed time {timing(execution_time)}\")"
      ],
      "metadata": {
        "colab": {
          "base_uri": "https://localhost:8080/"
        },
        "id": "18e0rBI5qzDf",
        "outputId": "acd96e94-3d6e-4340-9af9-3a23c77dd321"
      },
      "execution_count": null,
      "outputs": [
        {
          "output_type": "stream",
          "name": "stdout",
          "text": [
            "Elapsed time 0:1:37.89976191520691\n"
          ]
        }
      ]
    },
    {
      "cell_type": "code",
      "source": [
        "def data_summary(main_path):\n",
        "    yes_path = \"/content/drive/MyDrive/CSV files/brain_tumor/augmented_data/yes/\"\n",
        "    no_path = \"/content/drive/MyDrive/CSV files/brain_tumor/augmented_data/no/\"\n",
        "\n",
        "    n_pos = len(os.listdir(yes_path))\n",
        "    n_neg = len(os.listdir(no_path))\n",
        "\n",
        "    n = n_pos + n_neg\n",
        "\n",
        "    pos_per = (n_pos*100)/n\n",
        "    neg_per = (n_neg*100)/n\n",
        "\n",
        "    print(f\"Number of samples: {n}\")\n",
        "    print(f\"{n_pos} positive samples. Number of positive samples in percentage: {pos_per}%\")\n",
        "    print(f\"{n_neg} negative samples. Number of negative samples in percentage: {neg_per}%\")"
      ],
      "metadata": {
        "id": "0RZ_z5Eqt3m3"
      },
      "execution_count": null,
      "outputs": []
    },
    {
      "cell_type": "code",
      "source": [
        "data_summary(augmented_data_path)"
      ],
      "metadata": {
        "id": "eka8tAwcwksm",
        "colab": {
          "base_uri": "https://localhost:8080/"
        },
        "outputId": "22bf6446-2c42-4932-ed1c-69cf9e24746d"
      },
      "execution_count": null,
      "outputs": [
        {
          "output_type": "stream",
          "name": "stdout",
          "text": [
            "Number of samples: 2065\n",
            "1085 positive samples. Number of positive samples in percentage: 52.54237288135593%\n",
            "980 negative samples. Number of negative samples in percentage: 47.45762711864407%\n"
          ]
        }
      ]
    },
    {
      "cell_type": "code",
      "source": [
        "list_yes = os.listdir(\"/content/drive/MyDrive/CSV files/brain_tumor/augmented_data/yes/\")\n",
        "num_yes_files = len(list_yes)\n",
        "print(f\"Number of yes images: {num_yes_files}\")\n",
        "\n",
        "list_no = os.listdir(\"/content/drive/MyDrive/CSV files/brain_tumor/augmented_data/no/\")\n",
        "num_no_files = len(list_no)\n",
        "print(f\"Number of no images: {num_no_files}\")"
      ],
      "metadata": {
        "id": "suM5AdVmxeca",
        "colab": {
          "base_uri": "https://localhost:8080/"
        },
        "outputId": "ff460e0b-75d4-4729-9351-76e01413595f"
      },
      "execution_count": null,
      "outputs": [
        {
          "output_type": "stream",
          "name": "stdout",
          "text": [
            "Number of yes images: 1085\n",
            "Number of no images: 980\n"
          ]
        }
      ]
    },
    {
      "cell_type": "code",
      "source": [
        "data = {'tumorous': num_yes_files, 'non-tumorous': num_no_files}\n",
        "\n",
        "type_x = data.keys()\n",
        "values = data.values()\n",
        "fig = plt.figure(figsize = (5,7))\n",
        "plt.bar(type_x, values, color=\"blue\")\n",
        "plt.xlabel(\"Data\")\n",
        "plt.ylabel(\"Number of Brain MRI Scan Images\")\n",
        "plt.title(\"Count of Brain Tumor Images\")\n",
        "plt.show()"
      ],
      "metadata": {
        "id": "gnFNZZ1AwzIf",
        "colab": {
          "base_uri": "https://localhost:8080/",
          "height": 646
        },
        "outputId": "8bdf3c6e-09e9-4605-c2e9-1bd9f9aef498"
      },
      "execution_count": null,
      "outputs": [
        {
          "output_type": "display_data",
          "data": {
            "text/plain": [
              "<Figure size 500x700 with 1 Axes>"
            ],
            "image/png": "[encoded data removed]"
          },
          "metadata": {}
        }
      ]
    },
    {
      "cell_type": "markdown",
      "source": [
        "### Data Preprocessing"
      ],
      "metadata": {
        "id": "lnsT1XPGyMmk"
      }
    },
    {
      "cell_type": "code",
      "source": [
        "# Convert BGR TO GRAY\n",
        "# GaussianBlur\n",
        "# Threshold\n",
        "# Erode\n",
        "# Dilate\n",
        "# Find Contours"
      ],
      "metadata": {
        "id": "yHWREWQzxqG_"
      },
      "execution_count": null,
      "outputs": []
    },
    {
      "cell_type": "code",
      "source": [
        "!pip install imutils\n",
        "import imutils\n",
        "def crop_brain_tumor(image, plot=False):\n",
        "\n",
        "    gray = cv2.cvtColor(image, cv2.COLOR_BGR2GRAY)\n",
        "    gray = cv2.GaussianBlur(gray, (5,5), 0)\n",
        "\n",
        "    thres = cv2.threshold(gray, 45, 255, cv2.THRESH_BINARY)[1]\n",
        "    thres = cv2.erode(thres, None, iterations = 2)\n",
        "    thres = cv2.dilate(thres, None, iterations = 2)\n",
        "\n",
        "    cnts = cv2.findContours(thres.copy(), cv2.RETR_EXTERNAL, cv2.CHAIN_APPROX_SIMPLE)\n",
        "    cnts = imutils.grab_contours(cnts)\n",
        "    c = max(cnts, key = cv2.contourArea)\n",
        "\n",
        "    extLeft = tuple(c[c[:,:,0].argmin()][0])\n",
        "    extRight = tuple(c[c[:,:,0].argmax()][0])\n",
        "    extTop = tuple(c[c[:,:,1].argmin()][0])\n",
        "    extBot = tuple(c[c[:,:,1].argmax()][0])\n",
        "\n",
        "    new_image = image[extTop[1]:extBot[1], extLeft[0]:extRight[0]]\n",
        "    return new_image"
      ],
      "metadata": {
        "id": "T1gO1IBKycLR",
        "colab": {
          "base_uri": "https://localhost:8080/"
        },
        "outputId": "9927bcb6-e5b0-41e6-b7e9-eec1add350ed"
      },
      "execution_count": null,
      "outputs": [
        {
          "output_type": "stream",
          "name": "stdout",
          "text": [
            "Collecting imutils\n",
            "  Downloading imutils-0.5.4.tar.gz (17 kB)\n",
            "  Preparing metadata (setup.py) ... \u001b[?25l\u001b[?25hdone\n",
            "Building wheels for collected packages: imutils\n",
            "  Building wheel for imutils (setup.py) ... \u001b[?25l\u001b[?25hdone\n",
            "  Created wheel for imutils: filename=imutils-0.5.4-py3-none-any.whl size=25836 sha256=597a60d1e6ff62a8f9e1c4022db8ffeb2fd644d7e1da2b77bcf57cdc36d2e4ba\n",
            "  Stored in directory: /root/.cache/pip/wheels/85/cf/3a/e265e975a1e7c7e54eb3692d6aa4e2e7d6a3945d29da46f2d7\n",
            "Successfully built imutils\n",
            "Installing collected packages: imutils\n",
            "Successfully installed imutils-0.5.4\n"
          ]
        }
      ]
    },
    {
      "cell_type": "code",
      "source": [
        "folder1= '/content/drive/MyDrive/CSV files/brain_tumor/augmented_data/no/'\n",
        "folder2= '/content/drive/MyDrive/CSV files/brain_tumor/augmented_data/yes/'\n",
        "\n",
        "for filename in os.listdir(folder1):\n",
        "    img = cv2.imread(folder1 + filename)\n",
        "    img = crop_brain_tumor(img, False)\n",
        "    cv2.imwrite(folder1 + filename, img)\n",
        "for filename in os.listdir(folder2):\n",
        "    img = cv2.imread(folder2 + filename)\n",
        "    img = crop_brain_tumor(img, False)\n",
        "    cv2.imwrite(folder2 + filename, img)"
      ],
      "metadata": {
        "id": "xNUQ0TIsB3r1"
      },
      "execution_count": null,
      "outputs": []
    },
    {
      "cell_type": "markdown",
      "source": [
        "### Image Loading"
      ],
      "metadata": {
        "id": "43KFtrr95vD4"
      }
    },
    {
      "cell_type": "code",
      "source": [
        "from sklearn.utils import shuffle\n",
        "def load_data(dir_list, image_size):\n",
        "    X = []\n",
        "    y = []\n",
        "\n",
        "    image_width, image_height = image_size\n",
        "\n",
        "    for directory in dir_list:\n",
        "        for filename in os.listdir(directory):\n",
        "            image = cv2.imread(directory + '/' + filename)\n",
        "            image = crop_brain_tumor(image, plot = False)\n",
        "            image = cv2.resize(image, dsize=(image_width, image_height), interpolation = cv2.INTER_CUBIC)\n",
        "            image = image/255.00\n",
        "            X.append(image)\n",
        "            if directory[-3:] == \"yes\":\n",
        "                y.append(1)\n",
        "            else:\n",
        "                y.append(0)\n",
        "    X = np.array(X)\n",
        "    y = np.array(y)\n",
        "\n",
        "    X,y = shuffle(X,y)\n",
        "    print(f\"Number of examples is: {len(X)}\")\n",
        "    print(f\"X SHAPE is : {X.shape}\")\n",
        "    print(f\"y SHAPE is : {y.shape}\")\n",
        "\n",
        "    return X,y"
      ],
      "metadata": {
        "id": "8D86qcuG0p6s"
      },
      "execution_count": null,
      "outputs": []
    },
    {
      "cell_type": "code",
      "source": [
        "augmented_path = '/content/drive/MyDrive/CSV files/brain_tumor/augmented_data/'\n",
        "augmented_yes = augmented_path + 'yes'\n",
        "augmented_no = augmented_path + 'no'\n",
        "\n",
        "IMAGE_WIDTH, IMAGE_HEIGHT = (240,240)\n",
        "\n",
        "X,y = load_data([augmented_yes, augmented_no], (IMAGE_WIDTH, IMAGE_HEIGHT))"
      ],
      "metadata": {
        "id": "aEEPb3xE49TO",
        "colab": {
          "base_uri": "https://localhost:8080/"
        },
        "outputId": "17b276c4-959a-407c-cb8b-0d5a83115c57"
      },
      "execution_count": null,
      "outputs": [
        {
          "output_type": "stream",
          "name": "stdout",
          "text": [
            "Number of examples is: 2065\n",
            "X SHAPE is : (2065, 240, 240, 3)\n",
            "y SHAPE is : (2065,)\n"
          ]
        }
      ]
    },
    {
      "cell_type": "markdown",
      "source": [
        "### Data Splitting"
      ],
      "metadata": {
        "id": "XMOVnYYWleSd"
      }
    },
    {
      "cell_type": "code",
      "source": [
        "if not os.path.isdir('/content/drive/MyDrive/CSV files/brain_tumor/tumorous_and_nontumorous'):\n",
        "    base_dir = '/content/drive/MyDrive/CSV files/brain_tumor/tumorous_and_nontumorous'\n",
        "    os.mkdir(base_dir)"
      ],
      "metadata": {
        "id": "-qybI7yHldpX"
      },
      "execution_count": null,
      "outputs": []
    },
    {
      "cell_type": "code",
      "source": [
        "if not os.path.isdir('/content/drive/MyDrive/CSV files/brain_tumor/tumorous_and_nontumorous/train'):\n",
        "    train_dir = os.path.join(base_dir,'train')\n",
        "    os.mkdir(train_dir)\n",
        "if not os.path.isdir('/content/drive/MyDrive/CSV files/brain_tumor/tumorous_and_nontumorous/test'):\n",
        "    test_dir = os.path.join(base_dir,'test')\n",
        "    os.mkdir(test_dir)\n",
        "if not os.path.isdir('/content/drive/MyDrive/CSV files/brain_tumor/tumorous_and_nontumorous/valid'):\n",
        "    valid_dir = os.path.join(base_dir,'valid')\n",
        "    os.mkdir(valid_dir)"
      ],
      "metadata": {
        "id": "QgIMwKho71ry"
      },
      "execution_count": null,
      "outputs": []
    },
    {
      "cell_type": "code",
      "source": [
        "if not os.path.isdir('/content/drive/MyDrive/CSV files/brain_tumor/tumorous_and_nontumorous/train/tumorous'):\n",
        "    infected_train_dir = os.path.join(train_dir, 'tumorous')\n",
        "    os.mkdir(infected_train_dir)\n",
        "if not os.path.isdir('/content/drive/MyDrive/CSV files/brain_tumor/tumorous_and_nontumorous/test/tumorous'):\n",
        "    infected_test_dir = os.path.join(test_dir, 'tumorous')\n",
        "    os.mkdir(infected_test_dir)\n",
        "if not os.path.isdir('/content/drive/MyDrive/CSV files/brain_tumor/tumorous_and_nontumorous/valid/tumorous'):\n",
        "    infected_valid_dir = os.path.join(valid_dir, 'tumorous')\n",
        "    os.mkdir(infected_valid_dir)"
      ],
      "metadata": {
        "id": "gPYQLTlSznDr"
      },
      "execution_count": null,
      "outputs": []
    },
    {
      "cell_type": "code",
      "source": [
        "if not os.path.isdir('/content/drive/MyDrive/CSV files/brain_tumor/tumorous_and_nontumorous/train/nontumorous'):\n",
        "    healthy_train_dir = os.path.join(train_dir, 'nontumorous')\n",
        "    os.mkdir(healthy_train_dir)\n",
        "if not os.path.isdir('/content/drive/MyDrive/CSV files/brain_tumor/tumorous_and_nontumorous/test/nontumorous'):\n",
        "    healthy_test_dir = os.path.join(test_dir, 'nontumorous')\n",
        "    os.mkdir(healthy_test_dir)\n",
        "if not os.path.isdir('/content/drive/MyDrive/CSV files/brain_tumor/tumorous_and_nontumorous/valid/nontumorous'):\n",
        "    healthy_valid_dir = os.path.join(valid_dir, 'nontumorous')\n",
        "    os.mkdir(healthy_valid_dir)"
      ],
      "metadata": {
        "id": "4aULMHzZ3aYA"
      },
      "execution_count": null,
      "outputs": []
    },
    {
      "cell_type": "code",
      "source": [
        "original_dataset_tumorous = os.path.join('/content/drive/MyDrive/CSV files/brain_tumor/augmented_data','yes/' )\n",
        "original_dataset_nontumorous = os.path.join('/content/drive/MyDrive/CSV files/brain_tumor/augmented_data','no/')"
      ],
      "metadata": {
        "id": "d31CvzIJ31Js"
      },
      "execution_count": null,
      "outputs": []
    },
    {
      "cell_type": "code",
      "source": [
        "files = os.listdir('/content/drive/MyDrive/CSV files/brain_tumor/augmented_data/yes/')\n",
        "fnames = []\n",
        "for i in range(0,759):\n",
        "    fnames.append(files[i])\n",
        "for fname in fnames:\n",
        "    src = os.path.join(original_dataset_tumorous, fname)\n",
        "    dst = os.path.join(infected_train_dir, fname)\n",
        "    shutil.copyfile(src, dst)"
      ],
      "metadata": {
        "id": "wUUQqMhA4UAL"
      },
      "execution_count": null,
      "outputs": []
    },
    {
      "cell_type": "code",
      "source": [
        "files = os.listdir('/content/drive/MyDrive/CSV files/brain_tumor/augmented_data/yes/')\n",
        "fnames = []\n",
        "for i in range(759,922):\n",
        "    fnames.append(files[i])\n",
        "for fname in fnames:\n",
        "    src = os.path.join(original_dataset_tumorous, fname)\n",
        "    dst = os.path.join(infected_test_dir, fname)\n",
        "    shutil.copyfile(src, dst)"
      ],
      "metadata": {
        "id": "sMgVFwe05ZDa"
      },
      "execution_count": null,
      "outputs": []
    },
    {
      "cell_type": "code",
      "source": [
        "files = os.listdir('/content/drive/MyDrive/CSV files/brain_tumor/augmented_data/yes/')\n",
        "fnames = []\n",
        "for i in range(922,1085):\n",
        "    fnames.append(files[i])\n",
        "for fname in fnames:\n",
        "    src = os.path.join(original_dataset_tumorous, fname)\n",
        "    dst = os.path.join(infected_valid_dir, fname)\n",
        "    shutil.copyfile(src, dst)"
      ],
      "metadata": {
        "id": "bJeHsRqa58Gi"
      },
      "execution_count": null,
      "outputs": []
    },
    {
      "cell_type": "code",
      "source": [
        "files = os.listdir('/content/drive/MyDrive/CSV files/brain_tumor/augmented_data/no/')\n",
        "fnames = []\n",
        "for i in range(0,686):\n",
        "    fnames.append(files[i])\n",
        "for fname in fnames:\n",
        "    src = os.path.join(original_dataset_nontumorous, fname)\n",
        "    dst = os.path.join(healthy_train_dir, fname)\n",
        "    shutil.copyfile(src, dst)"
      ],
      "metadata": {
        "id": "CI5NYCsW6BXN"
      },
      "execution_count": null,
      "outputs": []
    },
    {
      "cell_type": "code",
      "source": [
        "files = os.listdir('/content/drive/MyDrive/CSV files/brain_tumor/augmented_data/no/')\n",
        "fnames = []\n",
        "for i in range(686,833):\n",
        "    fnames.append(files[i])\n",
        "for fname in fnames:\n",
        "    src = os.path.join(original_dataset_nontumorous, fname)\n",
        "    dst = os.path.join(healthy_test_dir, fname)\n",
        "    shutil.copyfile(src, dst)"
      ],
      "metadata": {
        "id": "avS3w4xp6Fpe"
      },
      "execution_count": null,
      "outputs": []
    },
    {
      "cell_type": "code",
      "source": [
        "files = os.listdir('/content/drive/MyDrive/CSV files/brain_tumor/augmented_data/no/')\n",
        "fnames = []\n",
        "for i in range(833,980):\n",
        "    fnames.append(files[i])\n",
        "for fname in fnames:\n",
        "    src = os.path.join(original_dataset_nontumorous, fname)\n",
        "    dst = os.path.join(healthy_valid_dir, fname)\n",
        "    shutil.copyfile(src, dst)"
      ],
      "metadata": {
        "id": "y6LlYlh-6FvD"
      },
      "execution_count": null,
      "outputs": []
    },
    {
      "cell_type": "markdown",
      "source": [
        "### Model Building"
      ],
      "metadata": {
        "id": "LflHDw3T7gZf"
      }
    },
    {
      "cell_type": "code",
      "source": [
        "train_datagen = ImageDataGenerator(rescale = 1.0/255,\n",
        "                   horizontal_flip=0.4,\n",
        "                   vertical_flip=0.4,\n",
        "                   rotation_range=40,\n",
        "                   shear_range=0.2,\n",
        "                   width_shift_range=0.4,\n",
        "                   height_shift_range=0.4,\n",
        "                   fill_mode='nearest')\n",
        "test_data_gen = ImageDataGenerator(rescale = 1.0/255)\n",
        "valid_data_gen = ImageDataGenerator(rescale = 1.0/255)"
      ],
      "metadata": {
        "id": "0i8xVvQC6F0L"
      },
      "execution_count": null,
      "outputs": []
    },
    {
      "cell_type": "code",
      "source": [
        "train_generator = train_datagen.flow_from_directory('/content/drive/MyDrive/CSV files/brain_tumor/tumorous_and_nontumorous/train', batch_size=128, target_size=(240,240), class_mode='categorical', shuffle=True, seed = 42, color_mode = 'rgb')\n"
      ],
      "metadata": {
        "id": "BZGmV-_66F20",
        "colab": {
          "base_uri": "https://localhost:8080/"
        },
        "outputId": "a71fc4ff-e657-42b2-fb04-01d8763d0bed"
      },
      "execution_count": null,
      "outputs": [
        {
          "output_type": "stream",
          "name": "stdout",
          "text": [
            "Found 1445 images belonging to 2 classes.\n"
          ]
        }
      ]
    },
    {
      "cell_type": "code",
      "source": [
        "test_generator = train_datagen.flow_from_directory('/content/drive/MyDrive/CSV files/brain_tumor/tumorous_and_nontumorous/test', batch_size=128, target_size=(240,240), class_mode='categorical', shuffle=True, seed = 42, color_mode = 'rgb')\n"
      ],
      "metadata": {
        "id": "tI2jlund6F7v",
        "colab": {
          "base_uri": "https://localhost:8080/"
        },
        "outputId": "b01d47f1-623f-4b90-e89e-86edba15461e"
      },
      "execution_count": null,
      "outputs": [
        {
          "output_type": "stream",
          "name": "stdout",
          "text": [
            "Found 310 images belonging to 2 classes.\n"
          ]
        }
      ]
    },
    {
      "cell_type": "code",
      "source": [
        "valid_generator = train_datagen.flow_from_directory('/content/drive/MyDrive/CSV files/brain_tumor/tumorous_and_nontumorous/valid', batch_size=128, target_size=(240,240), class_mode='categorical', shuffle=True, seed = 42, color_mode = 'rgb')\n"
      ],
      "metadata": {
        "id": "VdgcYhmH6GMT",
        "colab": {
          "base_uri": "https://localhost:8080/"
        },
        "outputId": "b590bd85-e05d-4431-eae4-ac152f47a225"
      },
      "execution_count": null,
      "outputs": [
        {
          "output_type": "stream",
          "name": "stdout",
          "text": [
            "Found 310 images belonging to 2 classes.\n"
          ]
        }
      ]
    },
    {
      "cell_type": "code",
      "source": [
        "class_labels = train_generator.class_indices\n",
        "class_name = {value: key for (key,value) in class_labels.items()}"
      ],
      "metadata": {
        "id": "Kimj3U058yw6"
      },
      "execution_count": null,
      "outputs": []
    },
    {
      "cell_type": "code",
      "source": [
        "class_name"
      ],
      "metadata": {
        "id": "V9hGlrEl9Rwe",
        "colab": {
          "base_uri": "https://localhost:8080/"
        },
        "outputId": "df243141-ab93-463a-d830-3bf1ac1a8992"
      },
      "execution_count": null,
      "outputs": [
        {
          "output_type": "execute_result",
          "data": {
            "text/plain": [
              "{0: 'nontumorous', 1: 'tumorous'}"
            ]
          },
          "metadata": {},
          "execution_count": 52
        }
      ]
    },
    {
      "cell_type": "code",
      "source": [
        "base_model = VGG19(input_shape = (240,240,3), include_top=False, weights='imagenet')\n",
        "\n",
        "for layer in base_model.layers:\n",
        "    layer.trainable = False\n",
        "\n",
        "x=base_model.output\n",
        "flat = Flatten()(x)\n",
        "\n",
        "class_1 = Dense(4608, activation='relu')(flat)\n",
        "drop_out = Dropout(0.2)(class_1)\n",
        "class_2 = Dense(1152, activation='relu')(drop_out)\n",
        "output = Dense(2, activation='softmax')(class_2)\n",
        "\n",
        "model_01 = Model(base_model.input, output)\n",
        "model_01.summary()"
      ],
      "metadata": {
        "id": "9GuqgQtf9SmI",
        "colab": {
          "base_uri": "https://localhost:8080/"
        },
        "outputId": "520d978e-47c0-45ff-fca1-75ccacf59399"
      },
      "execution_count": null,
      "outputs": [
        {
          "output_type": "stream",
          "name": "stdout",
          "text": [
            "Model: \"model_1\"\n",
            "_________________________________________________________________\n",
            " Layer (type)                Output Shape              Param #   \n",
            "=================================================================\n",
            " input_2 (InputLayer)        [(None, 240, 240, 3)]     0         \n",
            "                                                                 \n",
            " block1_conv1 (Conv2D)       (None, 240, 240, 64)      1792      \n",
            "                                                                 \n",
            " block1_conv2 (Conv2D)       (None, 240, 240, 64)      36928     \n",
            "                                                                 \n",
            " block1_pool (MaxPooling2D)  (None, 120, 120, 64)      0         \n",
            "                                                                 \n",
            " block2_conv1 (Conv2D)       (None, 120, 120, 128)     73856     \n",
            "                                                                 \n",
            " block2_conv2 (Conv2D)       (None, 120, 120, 128)     147584    \n",
            "                                                                 \n",
            " block2_pool (MaxPooling2D)  (None, 60, 60, 128)       0         \n",
            "                                                                 \n",
            " block3_conv1 (Conv2D)       (None, 60, 60, 256)       295168    \n",
            "                                                                 \n",
            " block3_conv2 (Conv2D)       (None, 60, 60, 256)       590080    \n",
            "                                                                 \n",
            " block3_conv3 (Conv2D)       (None, 60, 60, 256)       590080    \n",
            "                                                                 \n",
            " block3_conv4 (Conv2D)       (None, 60, 60, 256)       590080    \n",
            "                                                                 \n",
            " block3_pool (MaxPooling2D)  (None, 30, 30, 256)       0         \n",
            "                                                                 \n",
            " block4_conv1 (Conv2D)       (None, 30, 30, 512)       1180160   \n",
            "                                                                 \n",
            " block4_conv2 (Conv2D)       (None, 30, 30, 512)       2359808   \n",
            "                                                                 \n",
            " block4_conv3 (Conv2D)       (None, 30, 30, 512)       2359808   \n",
            "                                                                 \n",
            " block4_conv4 (Conv2D)       (None, 30, 30, 512)       2359808   \n",
            "                                                                 \n",
            " block4_pool (MaxPooling2D)  (None, 15, 15, 512)       0         \n",
            "                                                                 \n",
            " block5_conv1 (Conv2D)       (None, 15, 15, 512)       2359808   \n",
            "                                                                 \n",
            " block5_conv2 (Conv2D)       (None, 15, 15, 512)       2359808   \n",
            "                                                                 \n",
            " block5_conv3 (Conv2D)       (None, 15, 15, 512)       2359808   \n",
            "                                                                 \n",
            " block5_conv4 (Conv2D)       (None, 15, 15, 512)       2359808   \n",
            "                                                                 \n",
            " block5_pool (MaxPooling2D)  (None, 7, 7, 512)         0         \n",
            "                                                                 \n",
            " flatten_1 (Flatten)         (None, 25088)             0         \n",
            "                                                                 \n",
            " dense_3 (Dense)             (None, 4608)              115610112 \n",
            "                                                                 \n",
            " dropout_1 (Dropout)         (None, 4608)              0         \n",
            "                                                                 \n",
            " dense_4 (Dense)             (None, 1152)              5309568   \n",
            "                                                                 \n",
            " dense_5 (Dense)             (None, 2)                 2306      \n",
            "                                                                 \n",
            "=================================================================\n",
            "Total params: 140946370 (537.67 MB)\n",
            "Trainable params: 120921986 (461.28 MB)\n",
            "Non-trainable params: 20024384 (76.39 MB)\n",
            "_________________________________________________________________\n"
          ]
        }
      ]
    },
    {
      "cell_type": "markdown",
      "source": [
        "### Callback"
      ],
      "metadata": {
        "id": "0eI3Pqen-_YX"
      }
    },
    {
      "cell_type": "code",
      "source": [
        "filepath = 'model_h5.keras'\n",
        "es = EarlyStopping(monitor='val_loss', verbose=1, mode='min', patience=4)\n",
        "cp = ModelCheckpoint(filepath, monitor='val_loss', verbose=1, save_best_only=True, save_weights_only=False, mode='auto', save_freq='epoch')\n",
        "lrr = ReduceLROnPlateau(monitor='val_accuracy', patience=3, verbose=1, factor=0.5, min_lr=0.0001)"
      ],
      "metadata": {
        "id": "kGXopjDt-img"
      },
      "execution_count": null,
      "outputs": []
    },
    {
      "cell_type": "code",
      "source": [
        "from tensorflow.keras.optimizers.legacy import SGD\n",
        "adam = Adam(learning_rate=0.001)\n",
        "model_01.compile(loss='categorical_crossentropy', optimizer=adam, metrics=['accuracy'])"
      ],
      "metadata": {
        "id": "zcThqsnL_wfC"
      },
      "execution_count": null,
      "outputs": []
    },
    {
      "cell_type": "code",
      "source": [
        "history_01 = model_01.fit(train_generator, steps_per_epoch=10, epochs=10, callbacks=[es,cp,lrr], validation_data=valid_generator)"
      ],
      "metadata": {
        "id": "cqXNLT1UAaGi",
        "colab": {
          "base_uri": "https://localhost:8080/"
        },
        "outputId": "185026f3-7aaa-41a2-99c6-3cc06c4d41a5"
      },
      "execution_count": null,
      "outputs": [
        {
          "output_type": "stream",
          "name": "stdout",
          "text": [
            "Epoch 1/10\n",
            "10/10 [==============================] - ETA: 0s - loss: 20.3082 - accuracy: 0.4996\n",
            "Epoch 1: val_loss did not improve from 0.66303\n",
            "10/10 [==============================] - 50s 5s/step - loss: 20.3082 - accuracy: 0.4996 - val_loss: 3.1743 - val_accuracy: 0.5258 - lr: 0.0010\n",
            "Epoch 2/10\n",
            "10/10 [==============================] - ETA: 0s - loss: 1.5255 - accuracy: 0.5408\n",
            "Epoch 2: val_loss did not improve from 0.66303\n",
            "10/10 [==============================] - 48s 5s/step - loss: 1.5255 - accuracy: 0.5408 - val_loss: 0.8974 - val_accuracy: 0.4742 - lr: 0.0010\n",
            "Epoch 3/10\n",
            "10/10 [==============================] - ETA: 0s - loss: 0.7624 - accuracy: 0.5803\n",
            "Epoch 3: val_loss did not improve from 0.66303\n",
            "10/10 [==============================] - 49s 5s/step - loss: 0.7624 - accuracy: 0.5803 - val_loss: 0.8007 - val_accuracy: 0.5226 - lr: 0.0010\n",
            "Epoch 4/10\n",
            "10/10 [==============================] - ETA: 0s - loss: 0.6927 - accuracy: 0.5963\n",
            "Epoch 4: val_loss did not improve from 0.66303\n",
            "10/10 [==============================] - 48s 5s/step - loss: 0.6927 - accuracy: 0.5963 - val_loss: 0.6933 - val_accuracy: 0.5774 - lr: 0.0010\n",
            "Epoch 5/10\n",
            "10/10 [==============================] - ETA: 0s - loss: 0.6238 - accuracy: 0.6451\n",
            "Epoch 5: val_loss did not improve from 0.66303\n",
            "10/10 [==============================] - 49s 5s/step - loss: 0.6238 - accuracy: 0.6451 - val_loss: 0.7077 - val_accuracy: 0.5677 - lr: 0.0010\n",
            "Epoch 6/10\n",
            "10/10 [==============================] - ETA: 0s - loss: 0.6316 - accuracy: 0.6586\n",
            "Epoch 6: val_loss improved from 0.66303 to 0.63646, saving model to model_h5.keras\n",
            "10/10 [==============================] - 56s 6s/step - loss: 0.6316 - accuracy: 0.6586 - val_loss: 0.6365 - val_accuracy: 0.6387 - lr: 0.0010\n",
            "Epoch 7/10\n",
            "10/10 [==============================] - ETA: 0s - loss: 0.5836 - accuracy: 0.6888\n",
            "Epoch 7: val_loss did not improve from 0.63646\n",
            "10/10 [==============================] - 60s 6s/step - loss: 0.5836 - accuracy: 0.6888 - val_loss: 0.6599 - val_accuracy: 0.5774 - lr: 0.0010\n",
            "Epoch 8/10\n",
            "10/10 [==============================] - ETA: 0s - loss: 0.5337 - accuracy: 0.7250\n",
            "Epoch 8: val_loss did not improve from 0.63646\n",
            "10/10 [==============================] - 49s 5s/step - loss: 0.5337 - accuracy: 0.7250 - val_loss: 0.6574 - val_accuracy: 0.5968 - lr: 0.0010\n",
            "Epoch 9/10\n",
            "10/10 [==============================] - ETA: 0s - loss: 0.5342 - accuracy: 0.7199\n",
            "Epoch 9: val_loss did not improve from 0.63646\n",
            "\n",
            "Epoch 9: ReduceLROnPlateau reducing learning rate to 0.0005000000237487257.\n",
            "10/10 [==============================] - 49s 5s/step - loss: 0.5342 - accuracy: 0.7199 - val_loss: 0.6372 - val_accuracy: 0.5871 - lr: 0.0010\n",
            "Epoch 10/10\n",
            "10/10 [==============================] - ETA: 0s - loss: 0.5199 - accuracy: 0.7511\n",
            "Epoch 10: val_loss improved from 0.63646 to 0.61802, saving model to model_h5.keras\n"
          ]
        }
      ]
    },
    {
      "cell_type": "code",
      "source": [
        "if not os.path.isdir('/content/drive/MyDrive/CSV files/brain_tumor/model_weights/'):\n",
        "    os.mkdir('/content/drive/MyDrive/CSV files/brain_tumor/model_weights/')\n",
        "\n",
        "model_01.save_weights(filepath='/content/drive/MyDrive/CSV files/brain_tumor/model_weights/vgg19_model_01.h5', overwrite=True)"
      ],
      "metadata": {
        "id": "NCNeDGg1Kopi"
      },
      "execution_count": null,
      "outputs": []
    },
    {
      "cell_type": "code",
      "source": [
        "model_01.load_weights('/content/drive/MyDrive/CSV files/brain_tumor/model_weights/vgg19_model_01.h5')\n",
        "vgg_val_eval_01 = model_01.evaluate(valid_generator)\n",
        "vgg_test_eval_01 = model_01.evaluate(test_generator)"
      ],
      "metadata": {
        "id": "SLuZBR82U6Dk",
        "colab": {
          "base_uri": "https://localhost:8080/"
        },
        "outputId": "d186b4b4-d6e0-4f21-e5d5-21d2fd8db200"
      },
      "execution_count": null,
      "outputs": [
        {
          "output_type": "stream",
          "name": "stdout",
          "text": [
            "3/3 [==============================] - 15s 5s/step - loss: 0.6190 - accuracy: 0.6355\n",
            "3/3 [==============================] - 10s 3s/step - loss: 0.5729 - accuracy: 0.6613\n"
          ]
        }
      ]
    },
    {
      "cell_type": "code",
      "source": [
        "print(f'Validation Loss: {vgg_val_eval_01[0]}')\n",
        "print(f'Validation Accuracy: {vgg_val_eval_01[1]}')\n",
        "print(f'Testing Loss: {vgg_test_eval_01[0]}')\n",
        "print(f'Testing Accuracy: {vgg_test_eval_01[1]}')"
      ],
      "metadata": {
        "id": "FyazsTayU6ki",
        "colab": {
          "base_uri": "https://localhost:8080/"
        },
        "outputId": "bef7622d-a39a-4cb4-aa09-4deedb1874e9"
      },
      "execution_count": null,
      "outputs": [
        {
          "output_type": "stream",
          "name": "stdout",
          "text": [
            "Validation Loss: 0.618985116481781\n",
            "Validation Accuracy: 0.6354838609695435\n",
            "Testing Loss: 0.5729433298110962\n",
            "Testing Accuracy: 0.6612903475761414\n"
          ]
        }
      ]
    },
    {
      "cell_type": "code",
      "source": [
        "filenames = test_generator.filenames\n",
        "nb_sample = len(filenames)\n",
        "\n",
        "vgg_prediction_01 = model_01.predict(test_generator, steps=nb_sample, verbose=1)\n",
        "y_pred = np.argmax(vgg_prediction_01, axis=1)"
      ],
      "metadata": {
        "id": "qMOPK6PiU66X",
        "colab": {
          "base_uri": "https://localhost:8080/"
        },
        "outputId": "3ca288bd-08c6-447e-89fc-d4e5f1eab881"
      },
      "execution_count": null,
      "outputs": [
        {
          "output_type": "stream",
          "name": "stdout",
          "text": [
            "  3/310 [..............................] - ETA: 13:04"
          ]
        },
        {
          "output_type": "stream",
          "name": "stderr",
          "text": [
            "WARNING:tensorflow:Your input ran out of data; interrupting training. Make sure that your dataset or generator can generate at least `steps_per_epoch * epochs` batches (in this case, 310 batches). You may need to use the repeat() function when building your dataset.\n"
          ]
        },
        {
          "output_type": "stream",
          "name": "stdout",
          "text": [
            "\b\b\b\b\b\b\b\b\b\b\b\b\b\b\b\b\b\b\b\b\b\b\b\b\b\b\b\b\b\b\b\b\b\b\b\b\b\b\b\b\b\b\b\b\b\b\b\b\b\b\b\b\b\r310/310 [==============================] - 10s 17ms/step\n"
          ]
        }
      ]
    },
    {
      "cell_type": "markdown",
      "source": [
        "### Incremental Unfreezing and Fine Tuning"
      ],
      "metadata": {
        "id": "ag2TP8R6YURV"
      }
    },
    {
      "cell_type": "code",
      "source": [
        "base_model = VGG19(include_top=False, input_shape=(240,240,3))\n",
        "base_model_layer_names = [layer.name for layer in base_model.layers]\n",
        "base_model_layer_names"
      ],
      "metadata": {
        "id": "bGzc2bJdZqXe",
        "colab": {
          "base_uri": "https://localhost:8080/"
        },
        "outputId": "bdc24c14-8d5d-416c-ca39-5ee7676c346c"
      },
      "execution_count": null,
      "outputs": [
        {
          "output_type": "execute_result",
          "data": {
            "text/plain": [
              "['input_3',\n",
              " 'block1_conv1',\n",
              " 'block1_conv2',\n",
              " 'block1_pool',\n",
              " 'block2_conv1',\n",
              " 'block2_conv2',\n",
              " 'block2_pool',\n",
              " 'block3_conv1',\n",
              " 'block3_conv2',\n",
              " 'block3_conv3',\n",
              " 'block3_conv4',\n",
              " 'block3_pool',\n",
              " 'block4_conv1',\n",
              " 'block4_conv2',\n",
              " 'block4_conv3',\n",
              " 'block4_conv4',\n",
              " 'block4_pool',\n",
              " 'block5_conv1',\n",
              " 'block5_conv2',\n",
              " 'block5_conv3',\n",
              " 'block5_conv4',\n",
              " 'block5_pool']"
            ]
          },
          "metadata": {},
          "execution_count": 63
        }
      ]
    },
    {
      "cell_type": "code",
      "source": [
        "base_model = VGG19(include_top=False, input_shape=(240,240,3))\n",
        "base_model_layer_names = [layer.name for layer in base_model.layers]\n",
        "base_model_layer_names\n",
        "\n",
        "x=base_model.output\n",
        "flat = Flatten()(x)\n",
        "\n",
        "class_1 = Dense(4608, activation='relu')(flat)\n",
        "drop_out = Dropout(0.2)(class_1)\n",
        "class_2 = Dense(1152, activation='relu')(drop_out)\n",
        "output = Dense(2, activation='softmax')(class_2)\n",
        "\n",
        "model_02 = Model(base_model.input, output)\n",
        "model_02.load_weights('/content/drive/MyDrive/CSV files/brain_tumor/model_weights/vgg19_model_01.h5')\n",
        "\n",
        "set_trainable = False\n",
        "for layer in base_model.layers:\n",
        "    if layer.name in ['block5_conv4','block5_conv3']:\n",
        "        set_trainable = True\n",
        "    if set_trainable:\n",
        "        layer.trainable = True\n",
        "    else:\n",
        "        layer.trainable = False\n",
        "\n",
        "print(model_02.summary())"
      ],
      "metadata": {
        "id": "yasa8DALU7bQ",
        "colab": {
          "base_uri": "https://localhost:8080/"
        },
        "outputId": "3bc0e61a-523a-41dc-a36e-c6208fcaaf44"
      },
      "execution_count": null,
      "outputs": [
        {
          "output_type": "stream",
          "name": "stdout",
          "text": [
            "Model: \"model_2\"\n",
            "_________________________________________________________________\n",
            " Layer (type)                Output Shape              Param #   \n",
            "=================================================================\n",
            " input_4 (InputLayer)        [(None, 240, 240, 3)]     0         \n",
            "                                                                 \n",
            " block1_conv1 (Conv2D)       (None, 240, 240, 64)      1792      \n",
            "                                                                 \n",
            " block1_conv2 (Conv2D)       (None, 240, 240, 64)      36928     \n",
            "                                                                 \n",
            " block1_pool (MaxPooling2D)  (None, 120, 120, 64)      0         \n",
            "                                                                 \n",
            " block2_conv1 (Conv2D)       (None, 120, 120, 128)     73856     \n",
            "                                                                 \n",
            " block2_conv2 (Conv2D)       (None, 120, 120, 128)     147584    \n",
            "                                                                 \n",
            " block2_pool (MaxPooling2D)  (None, 60, 60, 128)       0         \n",
            "                                                                 \n",
            " block3_conv1 (Conv2D)       (None, 60, 60, 256)       295168    \n",
            "                                                                 \n",
            " block3_conv2 (Conv2D)       (None, 60, 60, 256)       590080    \n",
            "                                                                 \n",
            " block3_conv3 (Conv2D)       (None, 60, 60, 256)       590080    \n",
            "                                                                 \n",
            " block3_conv4 (Conv2D)       (None, 60, 60, 256)       590080    \n",
            "                                                                 \n",
            " block3_pool (MaxPooling2D)  (None, 30, 30, 256)       0         \n",
            "                                                                 \n",
            " block4_conv1 (Conv2D)       (None, 30, 30, 512)       1180160   \n",
            "                                                                 \n",
            " block4_conv2 (Conv2D)       (None, 30, 30, 512)       2359808   \n",
            "                                                                 \n",
            " block4_conv3 (Conv2D)       (None, 30, 30, 512)       2359808   \n",
            "                                                                 \n",
            " block4_conv4 (Conv2D)       (None, 30, 30, 512)       2359808   \n",
            "                                                                 \n",
            " block4_pool (MaxPooling2D)  (None, 15, 15, 512)       0         \n",
            "                                                                 \n",
            " block5_conv1 (Conv2D)       (None, 15, 15, 512)       2359808   \n",
            "                                                                 \n",
            " block5_conv2 (Conv2D)       (None, 15, 15, 512)       2359808   \n",
            "                                                                 \n",
            " block5_conv3 (Conv2D)       (None, 15, 15, 512)       2359808   \n",
            "                                                                 \n",
            " block5_conv4 (Conv2D)       (None, 15, 15, 512)       2359808   \n",
            "                                                                 \n",
            " block5_pool (MaxPooling2D)  (None, 7, 7, 512)         0         \n",
            "                                                                 \n",
            " flatten_2 (Flatten)         (None, 25088)             0         \n",
            "                                                                 \n",
            " dense_6 (Dense)             (None, 4608)              115610112 \n",
            "                                                                 \n",
            " dropout_2 (Dropout)         (None, 4608)              0         \n",
            "                                                                 \n",
            " dense_7 (Dense)             (None, 1152)              5309568   \n",
            "                                                                 \n",
            " dense_8 (Dense)             (None, 2)                 2306      \n",
            "                                                                 \n",
            "=================================================================\n",
            "Total params: 140946370 (537.67 MB)\n",
            "Trainable params: 125641602 (479.28 MB)\n",
            "Non-trainable params: 15304768 (58.38 MB)\n",
            "_________________________________________________________________\n",
            "None\n"
          ]
        }
      ]
    },
    {
      "cell_type": "code",
      "source": [
        "adam = Adam(learning_rate=0.0001)\n",
        "model_02.compile(loss='categorical_crossentropy', optimizer=adam, metrics=['accuracy'])\n"
      ],
      "metadata": {
        "id": "m3350SiRU7kJ"
      },
      "execution_count": null,
      "outputs": []
    },
    {
      "cell_type": "code",
      "source": [
        "history_02 = model_02.fit(train_generator, steps_per_epoch=10, epochs=10, callbacks=[es,cp,lrr], validation_data=valid_generator)"
      ],
      "metadata": {
        "id": "4yzI9JcQU7q3",
        "colab": {
          "base_uri": "https://localhost:8080/"
        },
        "outputId": "148c6f3a-38fa-49a3-89e2-7320267ec3e8"
      },
      "execution_count": null,
      "outputs": [
        {
          "output_type": "stream",
          "name": "stdout",
          "text": [
            "Epoch 1/10\n",
            "10/10 [==============================] - ETA: 0s - loss: 0.7466 - accuracy: 0.6274\n",
            "Epoch 1: val_loss did not improve from 0.61802\n",
            "10/10 [==============================] - 55s 6s/step - loss: 0.7466 - accuracy: 0.6274 - val_loss: 0.7247 - val_accuracy: 0.5290 - lr: 1.0000e-04\n",
            "Epoch 2/10\n",
            "10/10 [==============================] - ETA: 0s - loss: 0.5622 - accuracy: 0.7006\n",
            "Epoch 2: val_loss improved from 0.61802 to 0.57032, saving model to model_h5.keras\n",
            "10/10 [==============================] - 57s 6s/step - loss: 0.5622 - accuracy: 0.7006 - val_loss: 0.5703 - val_accuracy: 0.6387 - lr: 1.0000e-04\n",
            "Epoch 3/10\n",
            "10/10 [==============================] - ETA: 0s - loss: 0.4834 - accuracy: 0.7729\n",
            "Epoch 3: val_loss did not improve from 0.57032\n",
            "10/10 [==============================] - 63s 6s/step - loss: 0.4834 - accuracy: 0.7729 - val_loss: 0.6004 - val_accuracy: 0.6613 - lr: 1.0000e-04\n",
            "Epoch 4/10\n",
            "10/10 [==============================] - ETA: 0s - loss: 0.4388 - accuracy: 0.7965\n",
            "Epoch 4: val_loss did not improve from 0.57032\n",
            "10/10 [==============================] - 52s 5s/step - loss: 0.4388 - accuracy: 0.7965 - val_loss: 0.6388 - val_accuracy: 0.6742 - lr: 1.0000e-04\n",
            "Epoch 5/10\n",
            "10/10 [==============================] - ETA: 0s - loss: 0.3661 - accuracy: 0.8343\n",
            "Epoch 5: val_loss improved from 0.57032 to 0.45796, saving model to model_h5.keras\n",
            "10/10 [==============================] - 58s 6s/step - loss: 0.3661 - accuracy: 0.8343 - val_loss: 0.4580 - val_accuracy: 0.8258 - lr: 1.0000e-04\n",
            "Epoch 6/10\n",
            "10/10 [==============================] - ETA: 0s - loss: 0.3342 - accuracy: 0.8609\n",
            "Epoch 6: val_loss did not improve from 0.45796\n",
            "10/10 [==============================] - 67s 5s/step - loss: 0.3342 - accuracy: 0.8609 - val_loss: 0.5413 - val_accuracy: 0.7484 - lr: 1.0000e-04\n",
            "Epoch 7/10\n",
            "10/10 [==============================] - ETA: 0s - loss: 0.3115 - accuracy: 0.8688\n",
            "Epoch 7: val_loss did not improve from 0.45796\n",
            "10/10 [==============================] - 52s 5s/step - loss: 0.3115 - accuracy: 0.8688 - val_loss: 0.5027 - val_accuracy: 0.7516 - lr: 1.0000e-04\n",
            "Epoch 8/10\n",
            "10/10 [==============================] - ETA: 0s - loss: 0.2628 - accuracy: 0.8881\n",
            "Epoch 8: val_loss did not improve from 0.45796\n",
            "10/10 [==============================] - 52s 5s/step - loss: 0.2628 - accuracy: 0.8881 - val_loss: 0.6250 - val_accuracy: 0.7258 - lr: 1.0000e-04\n",
            "Epoch 9/10\n",
            "10/10 [==============================] - ETA: 0s - loss: 0.2383 - accuracy: 0.8945\n",
            "Epoch 9: val_loss did not improve from 0.45796\n",
            "10/10 [==============================] - 54s 5s/step - loss: 0.2383 - accuracy: 0.8945 - val_loss: 0.5422 - val_accuracy: 0.7548 - lr: 1.0000e-04\n",
            "Epoch 9: early stopping\n"
          ]
        }
      ]
    },
    {
      "cell_type": "code",
      "source": [
        "if not os.path.isdir('/content/drive/MyDrive/CSV files/brain_tumor/model_weights/'):\n",
        "    os.mkdir('/content/drive/MyDrive/CSV files/brain_tumor/model_weights/')\n",
        "\n",
        "model_02.save_weights(filepath='/content/drive/MyDrive/CSV files/brain_tumor/model_weights/vgg19_model_02.h5', overwrite=True)"
      ],
      "metadata": {
        "id": "9ux875WIazrJ"
      },
      "execution_count": null,
      "outputs": []
    },
    {
      "cell_type": "code",
      "source": [
        "model_02.load_weights('/content/drive/MyDrive/CSV files/brain_tumor/model_weights/vgg19_model_02.h5')\n",
        "vgg_val_eval_2 = model_02.evaluate(valid_generator)\n",
        "vgg_test_eval_02 = model_02.evaluate(test_generator)"
      ],
      "metadata": {
        "id": "RGfLSPBcbUoe",
        "colab": {
          "base_uri": "https://localhost:8080/"
        },
        "outputId": "3e0e6421-183b-4db3-a37b-b68748aafda0"
      },
      "execution_count": null,
      "outputs": [
        {
          "output_type": "stream",
          "name": "stdout",
          "text": [
            "3/3 [==============================] - 12s 4s/step - loss: 0.4787 - accuracy: 0.7677\n",
            "3/3 [==============================] - 10s 3s/step - loss: 0.3887 - accuracy: 0.8129\n"
          ]
        }
      ]
    },
    {
      "cell_type": "markdown",
      "source": [
        "### Unfreezing The Entire Network"
      ],
      "metadata": {
        "id": "-0VQ50W-b9Zq"
      }
    },
    {
      "cell_type": "code",
      "source": [
        "base_model = VGG19(include_top=False, input_shape=(240,240,3))\n",
        "base_model_layer_names = [layer.name for layer in base_model.layers]\n",
        "base_model_layer_names\n",
        "\n",
        "x=base_model.output\n",
        "flat = Flatten()(x)\n",
        "\n",
        "class_1 = Dense(4608, activation='relu')(flat)\n",
        "drop_out = Dropout(0.2)(class_1)\n",
        "class_2 = Dense(1152, activation='relu')(drop_out)\n",
        "output = Dense(2, activation='softmax')(class_2)\n",
        "\n",
        "model_03 = Model(base_model.input, output)\n",
        "model_03.load_weights('/content/drive/MyDrive/CSV files/brain_tumor/model_weights/vgg19_model_02.h5')\n",
        "\n",
        "adam = Adam(learning_rate=0.0001)\n",
        "model_03.compile(loss='categorical_crossentropy', optimizer=adam, metrics=['accuracy'])"
      ],
      "metadata": {
        "id": "R88xsnPDbrDh"
      },
      "execution_count": null,
      "outputs": []
    },
    {
      "cell_type": "code",
      "source": [
        "model_03.summary()"
      ],
      "metadata": {
        "id": "gCOU1rkOclJM",
        "colab": {
          "base_uri": "https://localhost:8080/"
        },
        "outputId": "06aba080-4651-4d3a-f397-7efbd3f94897"
      },
      "execution_count": null,
      "outputs": [
        {
          "output_type": "stream",
          "name": "stdout",
          "text": [
            "Model: \"model_3\"\n",
            "_________________________________________________________________\n",
            " Layer (type)                Output Shape              Param #   \n",
            "=================================================================\n",
            " input_5 (InputLayer)        [(None, 240, 240, 3)]     0         \n",
            "                                                                 \n",
            " block1_conv1 (Conv2D)       (None, 240, 240, 64)      1792      \n",
            "                                                                 \n",
            " block1_conv2 (Conv2D)       (None, 240, 240, 64)      36928     \n",
            "                                                                 \n",
            " block1_pool (MaxPooling2D)  (None, 120, 120, 64)      0         \n",
            "                                                                 \n",
            " block2_conv1 (Conv2D)       (None, 120, 120, 128)     73856     \n",
            "                                                                 \n",
            " block2_conv2 (Conv2D)       (None, 120, 120, 128)     147584    \n",
            "                                                                 \n",
            " block2_pool (MaxPooling2D)  (None, 60, 60, 128)       0         \n",
            "                                                                 \n",
            " block3_conv1 (Conv2D)       (None, 60, 60, 256)       295168    \n",
            "                                                                 \n",
            " block3_conv2 (Conv2D)       (None, 60, 60, 256)       590080    \n",
            "                                                                 \n",
            " block3_conv3 (Conv2D)       (None, 60, 60, 256)       590080    \n",
            "                                                                 \n",
            " block3_conv4 (Conv2D)       (None, 60, 60, 256)       590080    \n",
            "                                                                 \n",
            " block3_pool (MaxPooling2D)  (None, 30, 30, 256)       0         \n",
            "                                                                 \n",
            " block4_conv1 (Conv2D)       (None, 30, 30, 512)       1180160   \n",
            "                                                                 \n",
            " block4_conv2 (Conv2D)       (None, 30, 30, 512)       2359808   \n",
            "                                                                 \n",
            " block4_conv3 (Conv2D)       (None, 30, 30, 512)       2359808   \n",
            "                                                                 \n",
            " block4_conv4 (Conv2D)       (None, 30, 30, 512)       2359808   \n",
            "                                                                 \n",
            " block4_pool (MaxPooling2D)  (None, 15, 15, 512)       0         \n",
            "                                                                 \n",
            " block5_conv1 (Conv2D)       (None, 15, 15, 512)       2359808   \n",
            "                                                                 \n",
            " block5_conv2 (Conv2D)       (None, 15, 15, 512)       2359808   \n",
            "                                                                 \n",
            " block5_conv3 (Conv2D)       (None, 15, 15, 512)       2359808   \n",
            "                                                                 \n",
            " block5_conv4 (Conv2D)       (None, 15, 15, 512)       2359808   \n",
            "                                                                 \n",
            " block5_pool (MaxPooling2D)  (None, 7, 7, 512)         0         \n",
            "                                                                 \n",
            " flatten_3 (Flatten)         (None, 25088)             0         \n",
            "                                                                 \n",
            " dense_9 (Dense)             (None, 4608)              115610112 \n",
            "                                                                 \n",
            " dropout_3 (Dropout)         (None, 4608)              0         \n",
            "                                                                 \n",
            " dense_10 (Dense)            (None, 1152)              5309568   \n",
            "                                                                 \n",
            " dense_11 (Dense)            (None, 2)                 2306      \n",
            "                                                                 \n",
            "=================================================================\n",
            "Total params: 140946370 (537.67 MB)\n",
            "Trainable params: 140946370 (537.67 MB)\n",
            "Non-trainable params: 0 (0.00 Byte)\n",
            "_________________________________________________________________\n"
          ]
        }
      ]
    },
    {
      "cell_type": "code",
      "source": [
        "history_03 = model_03.fit(train_generator, steps_per_epoch=10, epochs=40, callbacks=[es,cp,lrr], validation_data=valid_generator)"
      ],
      "metadata": {
        "id": "gA0SBXDPcqLD",
        "colab": {
          "base_uri": "https://localhost:8080/"
        },
        "outputId": "d1f9c5ae-9c60-4fbc-ec7a-1a296e3bde62"
      },
      "execution_count": null,
      "outputs": [
        {
          "output_type": "stream",
          "name": "stdout",
          "text": [
            "Epoch 1/40\n",
            "10/10 [==============================] - ETA: 0s - loss: 0.7576 - accuracy: 0.5517 \n",
            "Epoch 1: val_loss did not improve from 0.45796\n",
            "10/10 [==============================] - 228s 22s/step - loss: 0.7576 - accuracy: 0.5517 - val_loss: 0.6913 - val_accuracy: 0.5258 - lr: 1.0000e-04\n",
            "Epoch 2/40\n",
            "10/10 [==============================] - ETA: 0s - loss: 0.6950 - accuracy: 0.4945 \n",
            "Epoch 2: val_loss did not improve from 0.45796\n",
            "10/10 [==============================] - 238s 24s/step - loss: 0.6950 - accuracy: 0.4945 - val_loss: 0.6931 - val_accuracy: 0.5000 - lr: 1.0000e-04\n",
            "Epoch 3/40\n",
            "10/10 [==============================] - ETA: 0s - loss: 0.6929 - accuracy: 0.5273 \n",
            "Epoch 3: val_loss did not improve from 0.45796\n",
            "10/10 [==============================] - 238s 24s/step - loss: 0.6929 - accuracy: 0.5273 - val_loss: 0.6922 - val_accuracy: 0.5258 - lr: 1.0000e-04\n",
            "Epoch 4/40\n",
            "10/10 [==============================] - ETA: 0s - loss: 0.6925 - accuracy: 0.5227 \n",
            "Epoch 4: val_loss did not improve from 0.45796\n",
            "10/10 [==============================] - 240s 24s/step - loss: 0.6925 - accuracy: 0.5227 - val_loss: 0.6928 - val_accuracy: 0.5258 - lr: 1.0000e-04\n",
            "Epoch 5/40\n",
            " 3/10 [========>.....................] - ETA: 2:38 - loss: 0.6922 - accuracy: 0.5312"
          ]
        }
      ]
    },
    {
      "cell_type": "code",
      "source": [
        "if not os.path.isdir('/content/drive/MyDrive/CSV files/brain_tumor/model_weights/'):\n",
        "    os.mkdir('/content/drive/MyDrive/CSV files/brain_tumor/model_weights/')\n",
        "\n",
        "model_02.save_weights(filepath='/content/drive/MyDrive/CSV files/brain_tumor/model_weights/vgg_unfrozen.h5', overwrite=True)"
      ],
      "metadata": {
        "id": "2Mm_iPDvdc-9"
      },
      "execution_count": null,
      "outputs": []
    },
    {
      "cell_type": "code",
      "source": [
        "model_03.load_weights('/content/drive/MyDrive/CSV files/brain_tumor/model_weights/vgg_unfrozen.h5')\n",
        "vgg_val_eval_03 = model_03.evaluate(valid_generator)\n",
        "vgg_test_eval_03 = model_03.evaluate(test_generator)"
      ],
      "metadata": {
        "id": "YniljMPVcv6u"
      },
      "execution_count": null,
      "outputs": []
    },
    {
      "cell_type": "code",
      "source": [],
      "metadata": {
        "id": "Cwfa7wJIdVwK"
      },
      "execution_count": null,
      "outputs": []
    }
  ]
}